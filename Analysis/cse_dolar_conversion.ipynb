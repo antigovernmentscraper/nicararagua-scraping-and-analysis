{
 "cells": [
  {
   "cell_type": "code",
   "execution_count": 5,
   "id": "1bbccbd5",
   "metadata": {},
   "outputs": [],
   "source": [
    "import pandas as pd"
   ]
  },
  {
   "cell_type": "code",
   "execution_count": 6,
   "id": "5a777d47",
   "metadata": {},
   "outputs": [],
   "source": [
    "#Load the structured data \n",
    "df = pd.read_excel('CSE_to_convert.xlsx', sheet_name= 'sheet1')"
   ]
  },
  {
   "cell_type": "code",
   "execution_count": null,
   "id": "0ae3a9e3",
   "metadata": {
    "scrolled": false
   },
   "outputs": [],
   "source": [
    "df.columns"
   ]
  },
  {
   "cell_type": "code",
   "execution_count": null,
   "id": "dcf91560",
   "metadata": {},
   "outputs": [],
   "source": [
    "data= pd.read_excel('/Users/ludwingmoncadabellorin/Downloads/nic_ds/USD_COR BCN.xlsx')\n",
    "# Create Python dictionary where the keys are the 'year' column of a pandas DataFrame named 'data' \n",
    "#and the values are the 'rate' column of the same DataFrame\n",
    "exchange_rates = dict(zip(data['year'], data['rate']))\n",
    "\n",
    "#Double Check US$ and C$ are the only currency symbols\n",
    "currencies = df['Monto'].str[:2].unique()\n",
    "currencies"
   ]
  },
  {
   "cell_type": "code",
   "execution_count": 10,
   "id": "7aa36101",
   "metadata": {},
   "outputs": [],
   "source": [
    "# Split the Monto column into currency and amount columns\n",
    "df[['moneda', 'monto']] = df['Monto'].str.split(n=1, expand=True) "
   ]
  },
  {
   "cell_type": "code",
   "execution_count": 11,
   "id": "b4947ec2",
   "metadata": {},
   "outputs": [],
   "source": [
    "# Delete commas from values in 'monto'\n",
    "df['monto'] = pd.to_numeric(df['monto'].str.replace(',', ''), errors='coerce')"
   ]
  },
  {
   "cell_type": "code",
   "execution_count": 12,
   "id": "23d86f23",
   "metadata": {},
   "outputs": [],
   "source": [
    "# Convert 'Monto' column to numeric type\n",
    "df['monto'] = pd.to_numeric(df['monto'], errors='coerce')"
   ]
  },
  {
   "cell_type": "code",
   "execution_count": 13,
   "id": "51889c01",
   "metadata": {},
   "outputs": [],
   "source": [
    "def convert_currency(value, currency, year, exchange_rates):\n",
    "    \"\"\"\n",
    "    Convert a monetary value from the original currency to C$ using the exchange rate\n",
    "    for the given year.\n",
    "\n",
    "    Args:\n",
    "        value (float or int): The monetary value to convert.\n",
    "        currency (str): The currency symbol for the original currency.\n",
    "        year (int): The year of the exchange rate to use for the conversion.\n",
    "        exchange_rates (dict): A dictionary containing exchange rates for each year.\n",
    "\n",
    "    Returns:\n",
    "        float: The converted monetary value in C$, or the original value if the currency\n",
    "               is already in C$.\n",
    "\n",
    "    Raises:\n",
    "        ValueError: If the value is not a float or integer, the currency symbol is not\n",
    "                    recognized, or there is no exchange rate available for the given year.\n",
    "    \"\"\"\n",
    "    if not isinstance(value, (int, float)):\n",
    "        raise ValueError(f\"Invalid value: {value}\")\n",
    "    elif currency == 'C$':\n",
    "        return value\n",
    "    elif currency == 'US$':\n",
    "        exchange_rate = exchange_rates.get(year, None)\n",
    "        if exchange_rate:\n",
    "            return value * exchange_rate\n",
    "        else:\n",
    "            raise ValueError(f\"No exchange rate found for year {year}\")\n",
    "    else:\n",
    "        raise ValueError(f\"Invalid currency symbol: {currency}\")"
   ]
  },
  {
   "cell_type": "code",
   "execution_count": null,
   "id": "841b28b3",
   "metadata": {},
   "outputs": [],
   "source": [
    "df['Fecha_Publicacion'] = pd.to_datetime(df['Fecha_Publicacion'])\n"
   ]
  },
  {
   "cell_type": "code",
   "execution_count": 15,
   "id": "4f09022f",
   "metadata": {},
   "outputs": [],
   "source": [
    "df['Fecha_Publicacion'] = pd.to_datetime(df['Fecha_Publicacion'], format='%d/%m/%Y')\n"
   ]
  },
  {
   "cell_type": "code",
   "execution_count": 16,
   "id": "439f1f99",
   "metadata": {},
   "outputs": [],
   "source": [
    "# Apply currency conversion to the Amount column\n",
    "df['monto'] = df.apply(lambda row: convert_currency(row['monto'], row['moneda'], \n",
    "                                                    row['Fecha_Publicacion'].year, exchange_rates), axis=1)\n"
   ]
  },
  {
   "cell_type": "code",
   "execution_count": null,
   "id": "f134ab00",
   "metadata": {},
   "outputs": [],
   "source": [
    "df.head()"
   ]
  },
  {
   "cell_type": "code",
   "execution_count": 17,
   "id": "510e897d",
   "metadata": {},
   "outputs": [],
   "source": [
    "# Drop moneda, since we do not need it anymore \n",
    "df = df.drop('moneda', axis=1)"
   ]
  },
  {
   "cell_type": "code",
   "execution_count": 18,
   "id": "8d409ca8",
   "metadata": {},
   "outputs": [],
   "source": [
    "#Let's rename monto to converted_monto\n",
    "df = df.rename(columns={'monto': 'converted_monto'})"
   ]
  },
  {
   "cell_type": "code",
   "execution_count": 19,
   "id": "fa2845b3",
   "metadata": {},
   "outputs": [],
   "source": [
    "df.to_excel('cse_converted_amount.xlsx', index=False)"
   ]
  },
  {
   "cell_type": "code",
   "execution_count": null,
   "id": "80928deb",
   "metadata": {},
   "outputs": [],
   "source": [
    "df.head()"
   ]
  }
 ],
 "metadata": {
  "kernelspec": {
   "display_name": "Python 3 (ipykernel)",
   "language": "python",
   "name": "python3"
  },
  "language_info": {
   "codemirror_mode": {
    "name": "ipython",
    "version": 3
   },
   "file_extension": ".py",
   "mimetype": "text/x-python",
   "name": "python",
   "nbconvert_exporter": "python",
   "pygments_lexer": "ipython3",
   "version": "3.10.6"
  },
  "toc": {
   "base_numbering": 1,
   "nav_menu": {},
   "number_sections": true,
   "sideBar": true,
   "skip_h1_title": false,
   "title_cell": "Table of Contents",
   "title_sidebar": "Contents",
   "toc_cell": false,
   "toc_position": {},
   "toc_section_display": true,
   "toc_window_display": false
  }
 },
 "nbformat": 4,
 "nbformat_minor": 5
}
