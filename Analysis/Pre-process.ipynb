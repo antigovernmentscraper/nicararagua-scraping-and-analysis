{
 "cells": [
  {
   "cell_type": "markdown",
   "id": "a8de5b04",
   "metadata": {},
   "source": [
    "# MTI ANALYSIS"
   ]
  },
  {
   "cell_type": "markdown",
   "id": "fe0f5b9a",
   "metadata": {},
   "source": [
    "## Data Loading and Preliminary Processing "
   ]
  },
  {
   "cell_type": "code",
   "execution_count": 2,
   "id": "491585fd",
   "metadata": {},
   "outputs": [],
   "source": [
    "import pandas as pd\n",
    "import unidecode"
   ]
  },
  {
   "cell_type": "code",
   "execution_count": 3,
   "id": "92c81e9d",
   "metadata": {},
   "outputs": [],
   "source": [
    "# load the 'MTI' sheet from the combined_data.xlsx file into a dataframe\n",
    "df = pd.read_excel('combined_data.xlsx', sheet_name= 'MTI')"
   ]
  },
  {
   "cell_type": "code",
   "execution_count": 7,
   "id": "e9b1620e",
   "metadata": {},
   "outputs": [],
   "source": [
    "# Set the options to display all columns\n",
    "pd.set_option('display.max_columns', None)"
   ]
  },
  {
   "cell_type": "code",
   "execution_count": null,
   "id": "88a49bbe",
   "metadata": {},
   "outputs": [],
   "source": [
    "df.shape"
   ]
  },
  {
   "cell_type": "code",
   "execution_count": null,
   "id": "e2770cf6",
   "metadata": {},
   "outputs": [],
   "source": [
    "df.columns"
   ]
  },
  {
   "cell_type": "code",
   "execution_count": null,
   "id": "94597ce8",
   "metadata": {
    "collapsed": true
   },
   "outputs": [],
   "source": [
    "# Normalize the datetime to remove the time component\n",
    "df['M_Cierre'] = df['M_Cierre'].dt.normalize()\n",
    "\n",
    "# Convert the datetime back to string format\n",
    "df['M_Cierre'] = df['M_Cierre'].dt.strftime('%d/%m/%Y')\n",
    "\n",
    "# Remove any leading or trailing whitespaces from the 'M_Cierre' column\n",
    "df['M_Cierre'] = df['M_Cierre'].str.strip()\n",
    "\n",
    "# Remove any leading or trailing whitespaces from the 'M_Publicacion' column\n",
    "df['M_Publicacion'] = df['M_Publicacion'].str.strip()\n",
    "\n",
    "# Convert 'M_Publicacion' column to datetime format\n",
    "df['M_Publicacion'] = pd.to_datetime(df['M_Publicacion'], format='%d/%m/%Y')\n",
    "\n",
    "# Convert the datetime back to string format\n",
    "df['M_Publicacion'] = df['M_Publicacion'].dt.strftime('%d/%m/%Y')\n"
   ]
  },
  {
   "cell_type": "code",
   "execution_count": 74,
   "id": "b6beece8",
   "metadata": {},
   "outputs": [],
   "source": [
    "# adjust the display options to show all columns\n",
    "pd.set_option('display.max_columns', None)\n"
   ]
  },
  {
   "cell_type": "code",
   "execution_count": null,
   "id": "02c9c6d6",
   "metadata": {
    "collapsed": true
   },
   "outputs": [],
   "source": [
    "# print the original dataframe\n",
    "print('Original dataframe:')\n",
    "print(df)\n",
    "\n",
    "# create a dictionary to map old column names to new column names\n",
    "new_column_names = {'P_contract':'Procedimiento','M_Estado':'Estado_1','M_Publicacion':'Fecha_Publicacion','M_Cierre':'Fecha_Cierre','M_Ultima':'Ultima_Actualizacion',\n",
    "                    'M_SIGAF': 'Codigo_SIGAF', 'M_Body2': 'Actividad_Economica', 'M_Body3': 'Descripcion_Contratación','D_EntidadId': 'Institucion',\n",
    "                    'D_UnidadId': 'Unidad_Adquisiciones', 'D_ClasificaciónId':'Clasificación_Comercial','D_CategoriaId':'Categoria',\n",
    "                    'D_FuenteDeFinanciamientoI':'Fuente_Financiamiento','D_NormaAplicableId':'Norma_Aplicable','D_TipoProcedimientoId':'Tipo_Procedimiento',\n",
    "                    'D_ModalidadId':'Modalidad_Contratación','D_VinculacionId':'Vinculacion_PAC','D_Estado':'Estado_2'}\n",
    "\n",
    "# use the rename() method to change the column names\n",
    "df = df.rename(columns=new_column_names)\n"
   ]
  },
  {
   "cell_type": "code",
   "execution_count": null,
   "id": "1b2a50a3",
   "metadata": {
    "collapsed": true
   },
   "outputs": [],
   "source": [
    "# Convert the columns to datetime objects and extract the date component in one step\n",
    "date_cols = ['Fecha_Publicacion', 'Fecha_Cierre', 'Ultima_Actualizacion']\n",
    "df[date_cols] = df[date_cols].apply(pd.to_datetime, errors='coerce').apply(lambda x: x.dt.date)\n",
    "\n",
    "# Rename the columns and place them in the original position\n",
    "df.columns = df.columns.str.replace('_date', '')  # remove the '_date' suffix from column names\n",
    "cols = df.columns.tolist()\n",
    "for col in reversed(date_cols):\n",
    "    cols.insert(cols.index(col) + 1, col)\n",
    "    cols.remove(col)\n",
    "df = df[cols]\n"
   ]
  },
  {
   "cell_type": "code",
   "execution_count": 5,
   "id": "44004830",
   "metadata": {},
   "outputs": [],
   "source": [
    "# drop old date columns \n",
    "\n",
    "df= df.drop(columns=['PageNo','M_Datos','Unidad_Adquisiciones','Modalidad_Contratación','D_EstudiPBCId'])"
   ]
  },
  {
   "cell_type": "code",
   "execution_count": 6,
   "id": "2bb13b30",
   "metadata": {},
   "outputs": [],
   "source": [
    "# Define non-repeated columns\n",
    "non_repeated_cols = ['Procedimiento', 'P_no', 'Estado_1', 'Codigo_SIGAF','Fecha_Publicacion', 'Fecha_Cierre',\n",
    "                     'Ultima_Actualizacion', 'M_Body1', 'Actividad_Economica', 'Descripcion_Contratación',\n",
    "                     'Institucion', 'D_ClasificacionId', 'Categoria', 'Fuente_Financiamiento','Norma_Aplicable', \n",
    "                     'Tipo_Procedimiento','Vinculacion_PAC', 'Estado_2']\n",
    "\n",
    "# Group by non-repeated columns\n",
    "groups = df.groupby(non_repeated_cols, dropna=False)\n"
   ]
  },
  {
   "cell_type": "code",
   "execution_count": 13,
   "id": "effb2201",
   "metadata": {},
   "outputs": [],
   "source": [
    "# Extract values from repeated columns for each group and assign to new rows\n",
    "new_rows = []\n",
    "for name, group in groups:\n",
    "    # Check if any column in the sequence has data\n",
    "    has_data = False\n",
    "    for i in range(9):\n",
    "        if not group[f'D_ADJ_Monto_{i}'].isna().all():\n",
    "            has_data = True\n",
    "            break\n",
    "    \n",
    "    # Add new row if any column in the sequence has data\n",
    "    if has_data:\n",
    "        for i in range(9):\n",
    "            proveedor = group[f'D_ADJ_ProveedorNombre_{i}'].iloc[0]\n",
    "            ruccolv = group[f'D_ADJ_ProveedorRUCColV_{i}'].iloc[0]\n",
    "            monto = group[f'D_ADJ_Monto_{i}'].iloc[0]\n",
    "            if pd.isna(monto):\n",
    "                continue\n",
    "            renglones = group[f'D_ADJ_RenglonesColV_{i}'].iloc[0]\n",
    "            beneficiario = group[f'D_ADJ_BeneficiarioFinal_{i}'].iloc[0]\n",
    "            new_row = {col: group[col].iloc[0] for col in non_repeated_cols}\n",
    "            new_row['Proveedor'] = proveedor\n",
    "            new_row['RUCColV'] = ruccolv\n",
    "            new_row['Monto'] = monto\n",
    "            new_row['RenglonesColV'] = renglones\n",
    "            new_row['BeneficiarioFinal'] = beneficiario\n",
    "            new_rows.append(new_row)\n",
    "\n",
    "# Convert list of new rows to dataframe\n",
    "new_df = pd.DataFrame(new_rows)\n"
   ]
  },
  {
   "cell_type": "code",
   "execution_count": null,
   "id": "733839a7",
   "metadata": {},
   "outputs": [],
   "source": [
    "new_df.head(60)"
   ]
  },
  {
   "cell_type": "code",
   "execution_count": 15,
   "id": "30ce02d8",
   "metadata": {},
   "outputs": [],
   "source": [
    "new_df.to_excel('mti_data_to_cluster.xlsx', index=False)"
   ]
  },
  {
   "cell_type": "code",
   "execution_count": null,
   "id": "6d0e305f",
   "metadata": {
    "scrolled": false
   },
   "outputs": [],
   "source": [
    "new_df.columns"
   ]
  },
  {
   "cell_type": "markdown",
   "id": "ad85a8d3",
   "metadata": {},
   "source": [
    "###  Dolar to Cordoba conversion and currency sign removal"
   ]
  },
  {
   "cell_type": "code",
   "execution_count": 96,
   "id": "f86f8270",
   "metadata": {},
   "outputs": [],
   "source": [
    "#Load the structured data \n",
    "df = pd.read_excel('/Users/ludwingmoncadabellorin/Downloads/nic_ds/mti_data_to_cluster.xlsx', sheet_name= 'Sheet1')"
   ]
  },
  {
   "cell_type": "code",
   "execution_count": 97,
   "id": "7df69a19",
   "metadata": {},
   "outputs": [
    {
     "data": {
      "text/plain": [
       "(6530, 23)"
      ]
     },
     "execution_count": 97,
     "metadata": {},
     "output_type": "execute_result"
    }
   ],
   "source": [
    "df.shape"
   ]
  },
  {
   "cell_type": "markdown",
   "id": "c2a9d2b8",
   "metadata": {},
   "source": [
    "#### In order to convert from Dolars to Cordobas we needed to get official exchange conversion from those years. We built a simple table with two columns: year and amount. The amount was the yearly mean of the exchange value cordobas per dolar. The data was extracted from the Banco Central de Nicaragua website.¶"
   ]
  },
  {
   "cell_type": "code",
   "execution_count": 4,
   "id": "8a56fd20",
   "metadata": {},
   "outputs": [],
   "source": [
    "data= pd.read_excel('/Users/ludwingmoncadabellorin/Downloads/nic_ds/USD_COR BCN.xlsx')"
   ]
  },
  {
   "cell_type": "code",
   "execution_count": 5,
   "id": "cea4781a",
   "metadata": {},
   "outputs": [],
   "source": [
    "# Create Python dictionary where the keys are the 'year' column of a pandas DataFrame named 'data' and the values are the 'rate' column of the same DataFrame\n",
    "exchange_rates = dict(zip(data['year'], data['rate']))"
   ]
  },
  {
   "cell_type": "markdown",
   "id": "8ed85063",
   "metadata": {},
   "source": [
    "#### Once we had the data, we created a function that takes in a monetary value, a currency symbol, and a year, and returns the converted value in Nicaraguan cordobas.\n"
   ]
  },
  {
   "cell_type": "code",
   "execution_count": null,
   "id": "3c4cc089",
   "metadata": {},
   "outputs": [],
   "source": [
    "#Double Check US$ and C$ are the only currency symbols\n",
    "currencies = df['Monto'].str[:2].unique()\n",
    "currencies"
   ]
  },
  {
   "cell_type": "code",
   "execution_count": 7,
   "id": "e3b4654c",
   "metadata": {},
   "outputs": [],
   "source": [
    "# Split the Monto column into currency and amount columns\n",
    "df[['moneda', 'monto']] = df['Monto'].str.split(n=1, expand=True)"
   ]
  },
  {
   "cell_type": "code",
   "execution_count": 8,
   "id": "781ddde2",
   "metadata": {},
   "outputs": [],
   "source": [
    "# Delete commas from values in 'monto'\n",
    "df['monto'] = pd.to_numeric(df['monto'].str.replace(',', ''), errors='coerce')"
   ]
  },
  {
   "cell_type": "code",
   "execution_count": 9,
   "id": "77e094f9",
   "metadata": {},
   "outputs": [],
   "source": [
    "# Convert 'Monto' column to numeric type\n",
    "df['monto'] = pd.to_numeric(df['monto'], errors='coerce')"
   ]
  },
  {
   "cell_type": "code",
   "execution_count": 10,
   "id": "263b0192",
   "metadata": {},
   "outputs": [],
   "source": [
    "def convert_currency(value, currency, year, exchange_rates):\n",
    "    \"\"\"\n",
    "    Convert a monetary value from the original currency to C$ using the exchange rate\n",
    "    for the given year.\n",
    "\n",
    "    Args:\n",
    "        value (float or int): The monetary value to convert.\n",
    "        currency (str): The currency symbol for the original currency.\n",
    "        year (int): The year of the exchange rate to use for the conversion.\n",
    "        exchange_rates (dict): A dictionary containing exchange rates for each year.\n",
    "\n",
    "    Returns:\n",
    "        float: The converted monetary value in C$, or the original value if the currency\n",
    "               is already in C$.\n",
    "\n",
    "    Raises:\n",
    "        ValueError: If the value is not a float or integer, the currency symbol is not\n",
    "                    recognized, or there is no exchange rate available for the given year.\n",
    "    \"\"\"\n",
    "    if not isinstance(value, (int, float)):\n",
    "        raise ValueError(f\"Invalid value: {value}\")\n",
    "    elif currency == 'C$':\n",
    "        return value\n",
    "    elif currency == 'US$':\n",
    "        exchange_rate = exchange_rates.get(year, None)\n",
    "        if exchange_rate:\n",
    "            return value * exchange_rate\n",
    "        else:\n",
    "            raise ValueError(f\"No exchange rate found for year {year}\")\n",
    "    else:\n",
    "        raise ValueError(f\"Invalid currency symbol: {currency}\")\n"
   ]
  },
  {
   "cell_type": "code",
   "execution_count": 11,
   "id": "87b48076",
   "metadata": {},
   "outputs": [],
   "source": [
    "# Apply currency conversion to the Amount column\n",
    "df['monto'] = df.apply(lambda row: convert_currency(row['monto'], row['moneda'], row['Fecha_Publicacion'].year, exchange_rates), axis=1)\n"
   ]
  },
  {
   "cell_type": "code",
   "execution_count": null,
   "id": "7f820949",
   "metadata": {},
   "outputs": [],
   "source": [
    "df.head()"
   ]
  },
  {
   "cell_type": "code",
   "execution_count": 50,
   "id": "353522e6",
   "metadata": {},
   "outputs": [],
   "source": [
    "df.to_csv('mti_data.csv', index=False)"
   ]
  },
  {
   "cell_type": "code",
   "execution_count": 13,
   "id": "8c41541e",
   "metadata": {},
   "outputs": [],
   "source": [
    "# Drop moneda, since we do not need it anymore \n",
    "df = df.drop('moneda', axis=1)"
   ]
  },
  {
   "cell_type": "code",
   "execution_count": 14,
   "id": "e5bb2bff",
   "metadata": {},
   "outputs": [],
   "source": [
    "#Let's rename monto to converted_monto\n",
    "df = df.rename(columns={'monto': 'converted_monto'})"
   ]
  },
  {
   "cell_type": "markdown",
   "id": "be30ac67",
   "metadata": {},
   "source": [
    "### There are 47 unique procedimientos. Most of them are redundant and can fit into known categories. We reviewed the law and tried to map them into known categories as closer to the law as possible. "
   ]
  },
  {
   "cell_type": "code",
   "execution_count": null,
   "id": "f794d80c",
   "metadata": {},
   "outputs": [],
   "source": [
    "unique_procedimientos = df['Procedimiento'].unique()\n",
    "print(unique_procedimientos)\n"
   ]
  },
  {
   "cell_type": "code",
   "execution_count": 25,
   "id": "a5a18530",
   "metadata": {},
   "outputs": [],
   "source": [
    "import unidecode\n",
    "\n",
    "def rename_procedure(value):\n",
    "    \"\"\"\n",
    "    Rename the procedure value based on the given rules.\n",
    "    \n",
    "    Args:\n",
    "        value (str): The procedure value to be renamed.\n",
    "    \n",
    "    Returns:\n",
    "        str: The renamed procedure value.\n",
    "    \"\"\"\n",
    "    licitacion_selectiva = [\n",
    "        \"licitacion restringida\",\n",
    "        \"licitacion selectiva\",\n",
    "    ]\n",
    "\n",
    "    licitacion_publica = [\n",
    "        \"licitacion publica nacional\",\n",
    "        \"licitacion publica internacional\",\n",
    "        \"licitacion publica\",\n",
    "        \"licitacion o concurso publico internacional limitado\",\n",
    "        \"licitacion o concurso publico internacional\",\n",
    "        \"licitacion o concurso publico internacional con oferta financiera\",\n",
    "        \"licitacion o concurso publico nacional\",\n",
    "        \"licitacion publica nacional obras\",\n",
    "        \"licitacion publica nacional bienes\",\n",
    "        \"licitacion publica internacional obras\",\n",
    "        \"licitacion publica internacional bienes y servicios\",\n",
    "        \"licitacion o concurso publico internacional bcie\",\n",
    "    ]\n",
    "\n",
    "    contratacion_menor = [\n",
    "        \"compra por cotizacion\",\n",
    "        \"compra por cotizacion menor\",\n",
    "    ]\n",
    "\n",
    "    comparacion_de_precios = [\n",
    "        \"comparacion de precios\",\n",
    "        \"comparacion de precios especial bienes / bid\",\n",
    "        \"comparacion de precios especial obras / bid\",\n",
    "        \"comparacion de precios obras\",\n",
    "        \"comparacion de precios bienes y servicios\",\n",
    "    ]\n",
    "\n",
    "    seleccion_por_criterio = [\n",
    "        \"seleccion basada en la calidad y costo\",\n",
    "        \"seleccion basada en calidad y costo\"\n",
    "        \"seleccion basada en las calificaciones del consultor\",\n",
    "        \"seleccion basada en el menor costo\",\n",
    "        \"seleccion con base en una sola fuente\",\n",
    "        \"seleccion de firma consultora bid\",\n",
    "        \"seleccion de firma consultora bm\",\n",
    "    ]\n",
    "\n",
    "    por_concurso = [\n",
    "        \"concurso\",\n",
    "        \"concurso publico internacional\",\n",
    "        \"concurso firma consultora\",\n",
    "        \"concurso publico nacional - bcie mtx\",\n",
    "    ]\n",
    "\n",
    "    value = unidecode.unidecode(value.lower()) # convert to lowercase and remove accents\n",
    "    \n",
    "    if value in licitacion_selectiva:\n",
    "        return \"Licitacion Selectiva\"\n",
    "    elif value in licitacion_publica:\n",
    "        return \"Licitacion Publica\"\n",
    "    elif value in contratacion_menor:\n",
    "        return \"Contratacion Menor\"\n",
    "    elif value in comparacion_de_precios:\n",
    "        return \"Comparacion de Precios\"\n",
    "    elif value in seleccion_por_criterio:\n",
    "        return \"Seleccion por Criterio\"\n",
    "    elif value in por_concurso:\n",
    "        return \"Por Concurso\"\n",
    "    else:\n",
    "        return value\n",
    "\n",
    "\n",
    "df['renamed_procedimiento'] = df['Procedimiento'].apply(rename_procedure)\n"
   ]
  },
  {
   "cell_type": "code",
   "execution_count": null,
   "id": "cb26445e",
   "metadata": {},
   "outputs": [],
   "source": [
    "unique_procedimientos = df['renamed_procedimiento'].unique()\n",
    "print(unique_procedimientos)"
   ]
  },
  {
   "cell_type": "code",
   "execution_count": null,
   "id": "8755cb0b",
   "metadata": {},
   "outputs": [],
   "source": [
    "df.columns"
   ]
  }
 ],
 "metadata": {
  "kernelspec": {
   "display_name": "Python 3 (ipykernel)",
   "language": "python",
   "name": "python3"
  },
  "language_info": {
   "codemirror_mode": {
    "name": "ipython",
    "version": 3
   },
   "file_extension": ".py",
   "mimetype": "text/x-python",
   "name": "python",
   "nbconvert_exporter": "python",
   "pygments_lexer": "ipython3",
   "version": "3.10.6"
  },
  "toc": {
   "base_numbering": 1,
   "nav_menu": {
    "height": "50.9943px",
    "width": "160px"
   },
   "number_sections": true,
   "sideBar": true,
   "skip_h1_title": false,
   "title_cell": "Table of Contents",
   "title_sidebar": "Contents",
   "toc_cell": false,
   "toc_position": {},
   "toc_section_display": true,
   "toc_window_display": false
  }
 },
 "nbformat": 4,
 "nbformat_minor": 5
}
