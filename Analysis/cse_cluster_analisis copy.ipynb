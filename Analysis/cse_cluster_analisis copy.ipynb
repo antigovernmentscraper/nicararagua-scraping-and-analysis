{
 "cells": [
  {
   "cell_type": "code",
   "execution_count": 30,
   "id": "b5be337d",
   "metadata": {},
   "outputs": [],
   "source": [
    "import pandas as pd\n",
    "import numpy as np\n",
    "from sklearn.preprocessing import MinMaxScaler\n",
    "from sklearn.decomposition import PCA, IncrementalPCA\n",
    "from sklearn.cluster import KMeans\n",
    "import matplotlib.pyplot as plt\n",
    "from category_encoders import BinaryEncoder"
   ]
  },
  {
   "cell_type": "code",
   "execution_count": 31,
   "id": "e1bfcbe2",
   "metadata": {},
   "outputs": [],
   "source": [
    "# Load dataset and create DataFrame (assuming the data is in a CSV file called 'data.csv')\n",
    "df = pd.read_excel('cse_converted_amount.xlsx', sheet_name= 'Sheet1')"
   ]
  },
  {
   "cell_type": "code",
   "execution_count": null,
   "id": "38ec2ae2",
   "metadata": {
    "scrolled": false
   },
   "outputs": [],
   "source": [
    "df.columns"
   ]
  },
  {
   "cell_type": "code",
   "execution_count": null,
   "id": "730438c6",
   "metadata": {},
   "outputs": [],
   "source": [
    "df.shape"
   ]
  },
  {
   "cell_type": "code",
   "execution_count": null,
   "id": "524ba07c",
   "metadata": {
    "scrolled": false
   },
   "outputs": [],
   "source": [
    "df.head()"
   ]
  },
  {
   "cell_type": "code",
   "execution_count": 6,
   "id": "2a6bd552",
   "metadata": {},
   "outputs": [],
   "source": [
    "# Binary encoding for categorical data\n",
    "cat_columns = ['Procedimiento','Categoria','Proveedor']\n",
    "encoder = BinaryEncoder(cols=cat_columns)\n",
    "df_encoded = encoder.fit_transform(df[cat_columns])"
   ]
  },
  {
   "cell_type": "code",
   "execution_count": 7,
   "id": "c572c1d9",
   "metadata": {},
   "outputs": [],
   "source": [
    "# Normalize numerical data\n",
    "num_columns = ['converted_monto']\n",
    "scaler = MinMaxScaler()\n",
    "df_normalized = pd.DataFrame(scaler.fit_transform(df[num_columns]), columns=num_columns)"
   ]
  },
  {
   "cell_type": "code",
   "execution_count": 8,
   "id": "ca7c2a34",
   "metadata": {},
   "outputs": [],
   "source": [
    "# Combine encoded categorical data and normalized numerical data\n",
    "df_processed = pd.concat([df_encoded, df_normalized], axis=1)"
   ]
  },
  {
   "cell_type": "code",
   "execution_count": null,
   "id": "28aae426",
   "metadata": {},
   "outputs": [],
   "source": [
    "# Find optimal number of K using Elbow method\n",
    "inertia = []\n",
    "K_range = range(1, 11)  # You can adjust the range according to your needs\n",
    "for k in K_range:\n",
    "    kmeans = KMeans(n_clusters=k, random_state=42)\n",
    "    kmeans.fit(df_processed)\n",
    "    inertia.append(kmeans.inertia_)\n",
    "\n",
    "# Plot the Elbow method graph\n",
    "plt.plot(K_range, inertia, 'bx-')\n",
    "plt.xlabel('Number of clusters (K)')\n",
    "plt.ylabel('Inertia')\n",
    "plt.title('Elbow Method for Optimal K')\n",
    "plt.show()"
   ]
  },
  {
   "cell_type": "code",
   "execution_count": null,
   "id": "67b57f7c",
   "metadata": {},
   "outputs": [],
   "source": [
    "# Run K-means clustering (replace 'optimal_k' with the number you find using the Elbow method)\n",
    "optimal_k = 2  # Replace with the optimal K value you find from the graph\n",
    "kmeans = KMeans(n_clusters=optimal_k, random_state=42)\n",
    "clusters = kmeans.fit_predict(df_processed)\n",
    "\n",
    "# Add clusters to the original DataFrame\n",
    "df['Cluster'] = clusters\n",
    "\n",
    "# Save clustered data to a new CSV file\n",
    "#df.to_csv('clustered_data.csv', index=False)"
   ]
  },
  {
   "cell_type": "code",
   "execution_count": 15,
   "id": "321f7d76",
   "metadata": {},
   "outputs": [],
   "source": [
    "# Perform PCA for visualization\n",
    "pca = PCA(n_components=2)  # Use n_components=3 for a 3D scatter plot\n",
    "df_pca = pca.fit_transform(df_processed)\n",
    "\n",
    "# Create a new DataFrame with PCA results and cluster labels\n",
    "df_pca_clustered = pd.DataFrame(df_pca, columns=['PC1', 'PC2'])  # Add 'PC3' for a 3D scatter plot\n",
    "df_pca_clustered['Cluster'] = clusters"
   ]
  },
  {
   "cell_type": "code",
   "execution_count": null,
   "id": "0513ec05",
   "metadata": {},
   "outputs": [],
   "source": [
    "# 2D scatter plot\n",
    "plt.figure(figsize=(8, 6))\n",
    "plt.scatter(df_pca_clustered['PC1'], df_pca_clustered['PC2'], c=df_pca_clustered['Cluster'], cmap='viridis', s=50)\n",
    "plt.xlabel('Principal Component 1')\n",
    "plt.ylabel('Principal Component 2')\n",
    "plt.title('2D Scatter Plot of Clusters')\n",
    "plt.colorbar().set_label('Cluster')\n",
    "plt.show()"
   ]
  },
  {
   "cell_type": "code",
   "execution_count": null,
   "id": "253bc091",
   "metadata": {},
   "outputs": [],
   "source": [
    "from sklearn.metrics import silhouette_score\n",
    "\n",
    "# Assuming you have already fit your KMeans model\n",
    "kmeans = KMeans(n_clusters=optimal_k, random_state=42)\n",
    "kmeans.fit(df_processed)\n",
    "\n",
    "# Calculate Silhouette Score\n",
    "silhouette_avg = silhouette_score(df_processed, kmeans.labels_)\n",
    "print(\"The average silhouette score is:\", silhouette_avg)\n"
   ]
  },
  {
   "cell_type": "code",
   "execution_count": null,
   "id": "31925f76",
   "metadata": {},
   "outputs": [],
   "source": [
    "import numpy as np\n",
    "\n",
    "# Get the labels assigned by the KMeans model\n",
    "labels = kmeans.labels_\n",
    "\n",
    "# Count the number of data points in each cluster\n",
    "unique_labels, counts = np.unique(labels, return_counts=True)\n",
    "\n",
    "# Create a dictionary of cluster labels and their counts\n",
    "cluster_counts = dict(zip(unique_labels, counts))\n",
    "\n",
    "# Print the cluster counts\n",
    "print(\"Data points per cluster:\", cluster_counts)\n",
    "\n",
    "# Find the cluster with the most data points\n",
    "max_cluster = max(cluster_counts, key=cluster_counts.get)\n",
    "print(\"The cluster with the most data points is:\", max_cluster)\n"
   ]
  },
  {
   "cell_type": "markdown",
   "id": "f8f58ef1",
   "metadata": {},
   "source": [
    "## Attempt 2 "
   ]
  },
  {
   "cell_type": "code",
   "execution_count": 32,
   "id": "e6db41da",
   "metadata": {},
   "outputs": [],
   "source": [
    "import pandas as pd\n",
    "import numpy as np\n",
    "import matplotlib.pyplot as plt\n",
    "from sklearn.preprocessing import StandardScaler, OneHotEncoder\n",
    "from sklearn.compose import ColumnTransformer\n",
    "from sklearn.cluster import KMeans\n",
    "from sklearn.metrics import silhouette_score\n",
    "from sklearn.manifold import TSNE\n",
    "from sklearn.pipeline import Pipeline\n",
    "import matplotlib.cm as cm"
   ]
  },
  {
   "cell_type": "code",
   "execution_count": 33,
   "id": "ca74cd2b",
   "metadata": {},
   "outputs": [],
   "source": [
    "# Preprocessing: OneHotEncoder for categorical features, StandardScaler for numerical features\n",
    "categorical_features = ['Procedimiento','Categoria','Proveedor']\n",
    "numerical_features = ['converted_monto', 'Duracion Proceso']\n",
    "\n",
    "preprocessor = ColumnTransformer(\n",
    "    transformers=[\n",
    "        ('num', StandardScaler(), numerical_features),\n",
    "        ('cat', OneHotEncoder(handle_unknown='ignore'), categorical_features)])"
   ]
  },
  {
   "cell_type": "code",
   "execution_count": 34,
   "id": "08d8eb40",
   "metadata": {},
   "outputs": [],
   "source": [
    "# Dimensionality reduction using t-SNE\n",
    "tsne = TSNE(n_components=2, random_state=42, init= 'random')"
   ]
  },
  {
   "cell_type": "code",
   "execution_count": 35,
   "id": "75550cd4",
   "metadata": {},
   "outputs": [],
   "source": [
    "# Create a pipeline to perform preprocessing, feature selection\n",
    "pipe = Pipeline([\n",
    "    ('preprocessor', preprocessor),\n",
    "    ('tsne', tsne)])"
   ]
  },
  {
   "cell_type": "code",
   "execution_count": 36,
   "id": "c72f819c",
   "metadata": {},
   "outputs": [],
   "source": [
    "# Fit and transform the data\n",
    "df_processed = pipe.fit_transform(df)"
   ]
  },
  {
   "cell_type": "code",
   "execution_count": null,
   "id": "3a14bb00",
   "metadata": {},
   "outputs": [],
   "source": [
    "# Find optimal number of K using Elbow method and Silhouette Score\n",
    "inertia = []\n",
    "sil_scores = []\n",
    "K_range = range(2, 11)  # You can adjust the range according to your needs\n",
    "for k in K_range:\n",
    "    kmeans = KMeans(n_clusters=k, random_state=42, n_init=10)\n",
    "    kmeans.fit(df_processed)\n",
    "    inertia.append(kmeans.inertia_)\n",
    "    sil_scores.append(silhouette_score(df_processed, kmeans.labels_))\n",
    "\n",
    "# Plot the Elbow method graph\n",
    "plt.plot(K_range, inertia, 'bx-')\n",
    "plt.xlabel('Número de Clusters (K)')\n",
    "plt.ylabel('Inercia')\n",
    "plt.title('Metodo Elbow para K óptimo')\n",
    "plt.show()"
   ]
  },
  {
   "cell_type": "code",
   "execution_count": null,
   "id": "03c3716b",
   "metadata": {},
   "outputs": [],
   "source": [
    "# Plot the Silhouette Scores\n",
    "plt.plot(K_range, sil_scores, 'gx-')\n",
    "plt.xlabel('Número de Clusters (K)')\n",
    "plt.ylabel('Puntaje de Silhouette')\n",
    "plt.title('Puntaje de Silhouette para diferente valores de K')\n",
    "plt.show()"
   ]
  },
  {
   "cell_type": "code",
   "execution_count": null,
   "id": "ba370550",
   "metadata": {},
   "outputs": [],
   "source": [
    "# Choose the optimal K based on the elbow method and silhouette scores\n",
    "optimal_k = 4  # Set this value based on your observations of the graphs\n",
    "\n",
    "# Fit the final KMeans model with the optimal K\n",
    "kmeans = KMeans(n_clusters=optimal_k, random_state=42, n_init=10)\n",
    "kmeans.fit(df_processed)\n",
    "\n",
    "# Calculate Silhouette Score\n",
    "silhouette_avg = silhouette_score(df_processed, kmeans.labels_)\n",
    "print(\"The average silhouette score is:\", silhouette_avg)"
   ]
  },
  {
   "cell_type": "code",
   "execution_count": null,
   "id": "e8557365",
   "metadata": {},
   "outputs": [],
   "source": [
    "# Get cluster assignments from the KMeans model\n",
    "cluster_assignments = kmeans.labels_\n",
    "\n",
    "# Create a scatter plot of the t-SNE transformed data points, colored by cluster assignments\n",
    "plt.figure(figsize=(10, 8))\n",
    "colors = cm.nipy_spectral(cluster_assignments.astype(float) / optimal_k)\n",
    "plt.scatter(df_processed[:, 0], df_processed[:, 1], marker='.', s=50, lw=0, alpha=0.7, c=colors, edgecolor='k')\n"
   ]
  },
  {
   "cell_type": "code",
   "execution_count": null,
   "id": "424c92af",
   "metadata": {},
   "outputs": [],
   "source": [
    "# Create a color map for the clusters\n",
    "colors = ['blue', 'red', 'green', 'orange', 'purple', 'yellow', 'cyan', 'magenta', 'brown', 'black']\n",
    "color_map = [colors[label] for label in kmeans.labels_]\n",
    "\n",
    "# Plot the clustered data points with different colors\n",
    "plt.scatter(df_processed[:, 0], df_processed[:, 1], c=color_map, s=50, alpha=0.5)\n",
    "\n",
    "# Annotate the plot with cluster centers\n",
    "centers = kmeans.cluster_centers_\n",
    "plt.scatter(centers[:, 0], centers[:, 1], marker='o', c=\"white\", alpha=1, s=200, edgecolor='k')\n",
    "\n",
    "for i, c in enumerate(centers):\n",
    "    plt.scatter(c[0], c[1], marker='$%d$' % i, alpha=1, s=50, edgecolor='k')\n",
    "\n",
    "plt.title('Visualización de datos en clúster')\n",
    "plt.xlabel('t-SNE 1')\n",
    "plt.ylabel('t-SNE 2')\n",
    "plt.show()\n"
   ]
  },
  {
   "cell_type": "code",
   "execution_count": null,
   "id": "83c1426b",
   "metadata": {},
   "outputs": [],
   "source": [
    "# Count number of data points in each cluster\n",
    "labels = kmeans.labels_\n",
    "counts = np.bincount(labels)\n",
    "\n",
    "# Print number of data points in each cluster\n",
    "for i, count in enumerate(counts):\n",
    "    print(f\"Cluster {i}: {count} data points\")\n",
    "    \n",
    "# Find the cluster with the most data points\n",
    "most_points_cluster = np.argmax(counts)\n",
    "print(f\"\\nThe cluster with the most data points is {most_points_cluster} with {counts[most_points_cluster]} data points\")\n"
   ]
  },
  {
   "cell_type": "code",
   "execution_count": 29,
   "id": "01700fc6",
   "metadata": {},
   "outputs": [],
   "source": [
    "# Fit the final KMeans model with the optimal K\n",
    "kmeans = KMeans(n_clusters=optimal_k, random_state=42, n_init=10)\n",
    "kmeans.fit(df_processed)\n",
    "\n",
    "# Add the cluster labels as a new column to the original dataframe\n",
    "df['cluster'] = kmeans.labels_\n"
   ]
  },
  {
   "cell_type": "code",
   "execution_count": 28,
   "id": "9cbaef06",
   "metadata": {},
   "outputs": [],
   "source": [
    "# Write the dataframe to an Excel file\n",
    "df.to_excel('cse_cluster_analisis2.xlsx', index=False)"
   ]
  },
  {
   "cell_type": "code",
   "execution_count": null,
   "id": "681eff8a",
   "metadata": {},
   "outputs": [],
   "source": [
    "df.head()"
   ]
  },
  {
   "cell_type": "code",
   "execution_count": null,
   "id": "f99737db",
   "metadata": {},
   "outputs": [],
   "source": [
    "import pandas as pd\n"
   ]
  },
  {
   "attachments": {},
   "cell_type": "markdown",
   "id": "dce43509",
   "metadata": {},
   "source": [
    "## Attempt 3 "
   ]
  },
  {
   "cell_type": "code",
   "execution_count": 4,
   "id": "011e8055",
   "metadata": {},
   "outputs": [],
   "source": [
    "import pandas as pd\n",
    "import numpy as np\n",
    "import matplotlib.pyplot as plt\n",
    "import seaborn as sns\n",
    "from sklearn.preprocessing import StandardScaler, LabelEncoder\n",
    "from sklearn.cluster import AgglomerativeClustering\n",
    "from scipy.cluster.hierarchy import dendrogram\n",
    "from sklearn.metrics import silhouette_score\n",
    "import gower\n",
    "from sklearn.cluster import AgglomerativeClustering\n",
    "from scipy.cluster.hierarchy import linkage\n"
   ]
  },
  {
   "cell_type": "code",
   "execution_count": 5,
   "id": "fd460f7d",
   "metadata": {},
   "outputs": [],
   "source": [
    "# Preprocessing: LabelEncoder for categorical features, StandardScaler for numerical features\n",
    "categorical_features = ['Procedimiento', 'Categoria', 'Proveedor']\n",
    "numerical_features = ['converted_monto', 'Duracion Proceso']\n",
    "\n",
    "for cat_feature in categorical_features:\n",
    "    le = LabelEncoder()\n",
    "    df[cat_feature] = le.fit_transform(df[cat_feature])\n",
    "\n",
    "scaler = StandardScaler()\n",
    "df[numerical_features] = scaler.fit_transform(df[numerical_features])"
   ]
  },
  {
   "cell_type": "code",
   "execution_count": 6,
   "id": "59ac12b0",
   "metadata": {},
   "outputs": [],
   "source": [
    "# Calculate Gower distance matrix\n",
    "gower_dist_matrix = gower.gower_matrix(df)\n"
   ]
  },
  {
   "cell_type": "code",
   "execution_count": 9,
   "id": "9fb95b0d",
   "metadata": {},
   "outputs": [],
   "source": [
    "# Set diagonal elements to 0\n",
    "np.fill_diagonal(gower_dist_matrix, 0)"
   ]
  },
  {
   "cell_type": "code",
   "execution_count": null,
   "id": "3ec5f736",
   "metadata": {},
   "outputs": [],
   "source": [
    "# Find optimal number of clusters using silhouette scores\n",
    "sil_scores = []\n",
    "K_range = range(2, 11)  # You can adjust the range according to your needs\n",
    "for k in K_range:\n",
    "    agglomerative_clustering = AgglomerativeClustering(n_clusters=k, metric='precomputed', linkage='complete')\n",
    "    agglomerative_clustering.fit(gower_dist_matrix)\n",
    "    sil_scores.append(silhouette_score(gower_dist_matrix, agglomerative_clustering.labels_, metric='precomputed'))\n",
    "\n",
    "# Plot the Silhouette Scores\n",
    "plt.plot(K_range, sil_scores, 'gx-')\n",
    "plt.xlabel('Number of clusters (K)')\n",
    "plt.ylabel('Silhouette Score')\n",
    "plt.title('Silhouette Scores for Different Values of K')\n",
    "plt.show()\n"
   ]
  },
  {
   "cell_type": "code",
   "execution_count": null,
   "id": "11cc5535",
   "metadata": {},
   "outputs": [],
   "source": [
    "# Choose the optimal K based on the silhouette scores\n",
    "optimal_k = 3  # Set this value based on your observations of the graph\n",
    "\n",
    "# Fit the final Agglomerative Clustering model with the optimal K\n",
    "agglomerative_clustering = AgglomerativeClustering(n_clusters=optimal_k, metric='precomputed', linkage='complete')\n",
    "agglomerative_clustering.fit(gower_dist_matrix)\n"
   ]
  },
  {
   "cell_type": "code",
   "execution_count": null,
   "id": "4e1ae6dc",
   "metadata": {},
   "outputs": [],
   "source": [
    "# Calculate Silhouette Score\n",
    "silhouette_avg = silhouette_score(gower_dist_matrix, agglomerative_clustering.labels_, metric='precomputed')\n",
    "print(\"The average silhouette score is:\", silhouette_avg)"
   ]
  },
  {
   "cell_type": "code",
   "execution_count": null,
   "id": "e7420e8e",
   "metadata": {},
   "outputs": [],
   "source": [
    "# Create the linkage matrix\n",
    "Z = linkage(gower_dist_matrix, method='complete')\n",
    "# Visualize the clusters using a dendrogram\n",
    "plt.figure(figsize=(10, 7))\n",
    "dendrogram(Z, leaf_rotation=90)\n",
    "plt.show()"
   ]
  }
 ],
 "metadata": {
  "kernelspec": {
   "display_name": "Python 3 (ipykernel)",
   "language": "python",
   "name": "python3"
  },
  "language_info": {
   "codemirror_mode": {
    "name": "ipython",
    "version": 3
   },
   "file_extension": ".py",
   "mimetype": "text/x-python",
   "name": "python",
   "nbconvert_exporter": "python",
   "pygments_lexer": "ipython3",
   "version": "3.10.6"
  },
  "toc": {
   "base_numbering": 1,
   "nav_menu": {},
   "number_sections": true,
   "sideBar": true,
   "skip_h1_title": false,
   "title_cell": "Table of Contents",
   "title_sidebar": "Contents",
   "toc_cell": false,
   "toc_position": {},
   "toc_section_display": true,
   "toc_window_display": false
  }
 },
 "nbformat": 4,
 "nbformat_minor": 5
}
